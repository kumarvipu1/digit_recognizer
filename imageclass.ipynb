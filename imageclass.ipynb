{
 "cells": [
  {
   "cell_type": "code",
   "execution_count": 88,
   "metadata": {},
   "outputs": [],
   "source": [
    "# importing libraries\n",
    "import numpy as np\n",
    "import pandas as pd\n",
    "from tensorflow import keras\n",
    "from sklearn.preprocessing  import StandardScaler, OneHotEncoder\n",
    "from sklearn.compose import make_column_transformer\n",
    "from sklearn.model_selection import GroupShuffleSplit\n",
    "import math\n",
    "import matplotlib.pyplot as plt\n",
    "import seaborn as sea\n",
    "from tensorflow.keras import backend as K"
   ]
  },
  {
   "cell_type": "markdown",
   "metadata": {},
   "source": [
    "# Data Preprocessing"
   ]
  },
  {
   "cell_type": "code",
   "execution_count": 2,
   "metadata": {},
   "outputs": [
    {
     "data": {
      "text/html": [
       "<div>\n",
       "<style scoped>\n",
       "    .dataframe tbody tr th:only-of-type {\n",
       "        vertical-align: middle;\n",
       "    }\n",
       "\n",
       "    .dataframe tbody tr th {\n",
       "        vertical-align: top;\n",
       "    }\n",
       "\n",
       "    .dataframe thead th {\n",
       "        text-align: right;\n",
       "    }\n",
       "</style>\n",
       "<table border=\"1\" class=\"dataframe\">\n",
       "  <thead>\n",
       "    <tr style=\"text-align: right;\">\n",
       "      <th></th>\n",
       "      <th>label</th>\n",
       "      <th>pixel0</th>\n",
       "      <th>pixel1</th>\n",
       "      <th>pixel2</th>\n",
       "      <th>pixel3</th>\n",
       "      <th>pixel4</th>\n",
       "      <th>pixel5</th>\n",
       "      <th>pixel6</th>\n",
       "      <th>pixel7</th>\n",
       "      <th>pixel8</th>\n",
       "      <th>...</th>\n",
       "      <th>pixel774</th>\n",
       "      <th>pixel775</th>\n",
       "      <th>pixel776</th>\n",
       "      <th>pixel777</th>\n",
       "      <th>pixel778</th>\n",
       "      <th>pixel779</th>\n",
       "      <th>pixel780</th>\n",
       "      <th>pixel781</th>\n",
       "      <th>pixel782</th>\n",
       "      <th>pixel783</th>\n",
       "    </tr>\n",
       "  </thead>\n",
       "  <tbody>\n",
       "    <tr>\n",
       "      <th>0</th>\n",
       "      <td>1</td>\n",
       "      <td>0</td>\n",
       "      <td>0</td>\n",
       "      <td>0</td>\n",
       "      <td>0</td>\n",
       "      <td>0</td>\n",
       "      <td>0</td>\n",
       "      <td>0</td>\n",
       "      <td>0</td>\n",
       "      <td>0</td>\n",
       "      <td>...</td>\n",
       "      <td>0</td>\n",
       "      <td>0</td>\n",
       "      <td>0</td>\n",
       "      <td>0</td>\n",
       "      <td>0</td>\n",
       "      <td>0</td>\n",
       "      <td>0</td>\n",
       "      <td>0</td>\n",
       "      <td>0</td>\n",
       "      <td>0</td>\n",
       "    </tr>\n",
       "    <tr>\n",
       "      <th>1</th>\n",
       "      <td>0</td>\n",
       "      <td>0</td>\n",
       "      <td>0</td>\n",
       "      <td>0</td>\n",
       "      <td>0</td>\n",
       "      <td>0</td>\n",
       "      <td>0</td>\n",
       "      <td>0</td>\n",
       "      <td>0</td>\n",
       "      <td>0</td>\n",
       "      <td>...</td>\n",
       "      <td>0</td>\n",
       "      <td>0</td>\n",
       "      <td>0</td>\n",
       "      <td>0</td>\n",
       "      <td>0</td>\n",
       "      <td>0</td>\n",
       "      <td>0</td>\n",
       "      <td>0</td>\n",
       "      <td>0</td>\n",
       "      <td>0</td>\n",
       "    </tr>\n",
       "    <tr>\n",
       "      <th>2</th>\n",
       "      <td>1</td>\n",
       "      <td>0</td>\n",
       "      <td>0</td>\n",
       "      <td>0</td>\n",
       "      <td>0</td>\n",
       "      <td>0</td>\n",
       "      <td>0</td>\n",
       "      <td>0</td>\n",
       "      <td>0</td>\n",
       "      <td>0</td>\n",
       "      <td>...</td>\n",
       "      <td>0</td>\n",
       "      <td>0</td>\n",
       "      <td>0</td>\n",
       "      <td>0</td>\n",
       "      <td>0</td>\n",
       "      <td>0</td>\n",
       "      <td>0</td>\n",
       "      <td>0</td>\n",
       "      <td>0</td>\n",
       "      <td>0</td>\n",
       "    </tr>\n",
       "    <tr>\n",
       "      <th>3</th>\n",
       "      <td>4</td>\n",
       "      <td>0</td>\n",
       "      <td>0</td>\n",
       "      <td>0</td>\n",
       "      <td>0</td>\n",
       "      <td>0</td>\n",
       "      <td>0</td>\n",
       "      <td>0</td>\n",
       "      <td>0</td>\n",
       "      <td>0</td>\n",
       "      <td>...</td>\n",
       "      <td>0</td>\n",
       "      <td>0</td>\n",
       "      <td>0</td>\n",
       "      <td>0</td>\n",
       "      <td>0</td>\n",
       "      <td>0</td>\n",
       "      <td>0</td>\n",
       "      <td>0</td>\n",
       "      <td>0</td>\n",
       "      <td>0</td>\n",
       "    </tr>\n",
       "    <tr>\n",
       "      <th>4</th>\n",
       "      <td>0</td>\n",
       "      <td>0</td>\n",
       "      <td>0</td>\n",
       "      <td>0</td>\n",
       "      <td>0</td>\n",
       "      <td>0</td>\n",
       "      <td>0</td>\n",
       "      <td>0</td>\n",
       "      <td>0</td>\n",
       "      <td>0</td>\n",
       "      <td>...</td>\n",
       "      <td>0</td>\n",
       "      <td>0</td>\n",
       "      <td>0</td>\n",
       "      <td>0</td>\n",
       "      <td>0</td>\n",
       "      <td>0</td>\n",
       "      <td>0</td>\n",
       "      <td>0</td>\n",
       "      <td>0</td>\n",
       "      <td>0</td>\n",
       "    </tr>\n",
       "  </tbody>\n",
       "</table>\n",
       "<p>5 rows × 785 columns</p>\n",
       "</div>"
      ],
      "text/plain": [
       "   label  pixel0  pixel1  pixel2  pixel3  pixel4  pixel5  pixel6  pixel7  \\\n",
       "0      1       0       0       0       0       0       0       0       0   \n",
       "1      0       0       0       0       0       0       0       0       0   \n",
       "2      1       0       0       0       0       0       0       0       0   \n",
       "3      4       0       0       0       0       0       0       0       0   \n",
       "4      0       0       0       0       0       0       0       0       0   \n",
       "\n",
       "   pixel8  ...  pixel774  pixel775  pixel776  pixel777  pixel778  pixel779  \\\n",
       "0       0  ...         0         0         0         0         0         0   \n",
       "1       0  ...         0         0         0         0         0         0   \n",
       "2       0  ...         0         0         0         0         0         0   \n",
       "3       0  ...         0         0         0         0         0         0   \n",
       "4       0  ...         0         0         0         0         0         0   \n",
       "\n",
       "   pixel780  pixel781  pixel782  pixel783  \n",
       "0         0         0         0         0  \n",
       "1         0         0         0         0  \n",
       "2         0         0         0         0  \n",
       "3         0         0         0         0  \n",
       "4         0         0         0         0  \n",
       "\n",
       "[5 rows x 785 columns]"
      ]
     },
     "execution_count": 2,
     "metadata": {},
     "output_type": "execute_result"
    }
   ],
   "source": [
    "#importuing training data\n",
    "train_complete = pd.read_csv('train.csv')\n",
    "test_df = pd.read_csv('test.csv')\n",
    "train_complete.head()"
   ]
  },
  {
   "cell_type": "code",
   "execution_count": 13,
   "metadata": {},
   "outputs": [
    {
     "data": {
      "text/html": [
       "<div>\n",
       "<style scoped>\n",
       "    .dataframe tbody tr th:only-of-type {\n",
       "        vertical-align: middle;\n",
       "    }\n",
       "\n",
       "    .dataframe tbody tr th {\n",
       "        vertical-align: top;\n",
       "    }\n",
       "\n",
       "    .dataframe thead th {\n",
       "        text-align: right;\n",
       "    }\n",
       "</style>\n",
       "<table border=\"1\" class=\"dataframe\">\n",
       "  <thead>\n",
       "    <tr style=\"text-align: right;\">\n",
       "      <th></th>\n",
       "      <th>label</th>\n",
       "      <th>pixel0</th>\n",
       "      <th>pixel1</th>\n",
       "      <th>pixel2</th>\n",
       "      <th>pixel3</th>\n",
       "      <th>pixel4</th>\n",
       "      <th>pixel5</th>\n",
       "      <th>pixel6</th>\n",
       "      <th>pixel7</th>\n",
       "      <th>pixel8</th>\n",
       "      <th>...</th>\n",
       "      <th>pixel774</th>\n",
       "      <th>pixel775</th>\n",
       "      <th>pixel776</th>\n",
       "      <th>pixel777</th>\n",
       "      <th>pixel778</th>\n",
       "      <th>pixel779</th>\n",
       "      <th>pixel780</th>\n",
       "      <th>pixel781</th>\n",
       "      <th>pixel782</th>\n",
       "      <th>pixel783</th>\n",
       "    </tr>\n",
       "  </thead>\n",
       "  <tbody>\n",
       "    <tr>\n",
       "      <th>count</th>\n",
       "      <td>42000.000000</td>\n",
       "      <td>42000.0</td>\n",
       "      <td>42000.0</td>\n",
       "      <td>42000.0</td>\n",
       "      <td>42000.0</td>\n",
       "      <td>42000.0</td>\n",
       "      <td>42000.0</td>\n",
       "      <td>42000.0</td>\n",
       "      <td>42000.0</td>\n",
       "      <td>42000.0</td>\n",
       "      <td>...</td>\n",
       "      <td>42000.000000</td>\n",
       "      <td>42000.000000</td>\n",
       "      <td>42000.000000</td>\n",
       "      <td>42000.00000</td>\n",
       "      <td>42000.000000</td>\n",
       "      <td>42000.000000</td>\n",
       "      <td>42000.0</td>\n",
       "      <td>42000.0</td>\n",
       "      <td>42000.0</td>\n",
       "      <td>42000.0</td>\n",
       "    </tr>\n",
       "    <tr>\n",
       "      <th>mean</th>\n",
       "      <td>4.456643</td>\n",
       "      <td>0.0</td>\n",
       "      <td>0.0</td>\n",
       "      <td>0.0</td>\n",
       "      <td>0.0</td>\n",
       "      <td>0.0</td>\n",
       "      <td>0.0</td>\n",
       "      <td>0.0</td>\n",
       "      <td>0.0</td>\n",
       "      <td>0.0</td>\n",
       "      <td>...</td>\n",
       "      <td>0.219286</td>\n",
       "      <td>0.117095</td>\n",
       "      <td>0.059024</td>\n",
       "      <td>0.02019</td>\n",
       "      <td>0.017238</td>\n",
       "      <td>0.002857</td>\n",
       "      <td>0.0</td>\n",
       "      <td>0.0</td>\n",
       "      <td>0.0</td>\n",
       "      <td>0.0</td>\n",
       "    </tr>\n",
       "    <tr>\n",
       "      <th>std</th>\n",
       "      <td>2.887730</td>\n",
       "      <td>0.0</td>\n",
       "      <td>0.0</td>\n",
       "      <td>0.0</td>\n",
       "      <td>0.0</td>\n",
       "      <td>0.0</td>\n",
       "      <td>0.0</td>\n",
       "      <td>0.0</td>\n",
       "      <td>0.0</td>\n",
       "      <td>0.0</td>\n",
       "      <td>...</td>\n",
       "      <td>6.312890</td>\n",
       "      <td>4.633819</td>\n",
       "      <td>3.274488</td>\n",
       "      <td>1.75987</td>\n",
       "      <td>1.894498</td>\n",
       "      <td>0.414264</td>\n",
       "      <td>0.0</td>\n",
       "      <td>0.0</td>\n",
       "      <td>0.0</td>\n",
       "      <td>0.0</td>\n",
       "    </tr>\n",
       "    <tr>\n",
       "      <th>min</th>\n",
       "      <td>0.000000</td>\n",
       "      <td>0.0</td>\n",
       "      <td>0.0</td>\n",
       "      <td>0.0</td>\n",
       "      <td>0.0</td>\n",
       "      <td>0.0</td>\n",
       "      <td>0.0</td>\n",
       "      <td>0.0</td>\n",
       "      <td>0.0</td>\n",
       "      <td>0.0</td>\n",
       "      <td>...</td>\n",
       "      <td>0.000000</td>\n",
       "      <td>0.000000</td>\n",
       "      <td>0.000000</td>\n",
       "      <td>0.00000</td>\n",
       "      <td>0.000000</td>\n",
       "      <td>0.000000</td>\n",
       "      <td>0.0</td>\n",
       "      <td>0.0</td>\n",
       "      <td>0.0</td>\n",
       "      <td>0.0</td>\n",
       "    </tr>\n",
       "    <tr>\n",
       "      <th>25%</th>\n",
       "      <td>2.000000</td>\n",
       "      <td>0.0</td>\n",
       "      <td>0.0</td>\n",
       "      <td>0.0</td>\n",
       "      <td>0.0</td>\n",
       "      <td>0.0</td>\n",
       "      <td>0.0</td>\n",
       "      <td>0.0</td>\n",
       "      <td>0.0</td>\n",
       "      <td>0.0</td>\n",
       "      <td>...</td>\n",
       "      <td>0.000000</td>\n",
       "      <td>0.000000</td>\n",
       "      <td>0.000000</td>\n",
       "      <td>0.00000</td>\n",
       "      <td>0.000000</td>\n",
       "      <td>0.000000</td>\n",
       "      <td>0.0</td>\n",
       "      <td>0.0</td>\n",
       "      <td>0.0</td>\n",
       "      <td>0.0</td>\n",
       "    </tr>\n",
       "    <tr>\n",
       "      <th>50%</th>\n",
       "      <td>4.000000</td>\n",
       "      <td>0.0</td>\n",
       "      <td>0.0</td>\n",
       "      <td>0.0</td>\n",
       "      <td>0.0</td>\n",
       "      <td>0.0</td>\n",
       "      <td>0.0</td>\n",
       "      <td>0.0</td>\n",
       "      <td>0.0</td>\n",
       "      <td>0.0</td>\n",
       "      <td>...</td>\n",
       "      <td>0.000000</td>\n",
       "      <td>0.000000</td>\n",
       "      <td>0.000000</td>\n",
       "      <td>0.00000</td>\n",
       "      <td>0.000000</td>\n",
       "      <td>0.000000</td>\n",
       "      <td>0.0</td>\n",
       "      <td>0.0</td>\n",
       "      <td>0.0</td>\n",
       "      <td>0.0</td>\n",
       "    </tr>\n",
       "    <tr>\n",
       "      <th>75%</th>\n",
       "      <td>7.000000</td>\n",
       "      <td>0.0</td>\n",
       "      <td>0.0</td>\n",
       "      <td>0.0</td>\n",
       "      <td>0.0</td>\n",
       "      <td>0.0</td>\n",
       "      <td>0.0</td>\n",
       "      <td>0.0</td>\n",
       "      <td>0.0</td>\n",
       "      <td>0.0</td>\n",
       "      <td>...</td>\n",
       "      <td>0.000000</td>\n",
       "      <td>0.000000</td>\n",
       "      <td>0.000000</td>\n",
       "      <td>0.00000</td>\n",
       "      <td>0.000000</td>\n",
       "      <td>0.000000</td>\n",
       "      <td>0.0</td>\n",
       "      <td>0.0</td>\n",
       "      <td>0.0</td>\n",
       "      <td>0.0</td>\n",
       "    </tr>\n",
       "    <tr>\n",
       "      <th>max</th>\n",
       "      <td>9.000000</td>\n",
       "      <td>0.0</td>\n",
       "      <td>0.0</td>\n",
       "      <td>0.0</td>\n",
       "      <td>0.0</td>\n",
       "      <td>0.0</td>\n",
       "      <td>0.0</td>\n",
       "      <td>0.0</td>\n",
       "      <td>0.0</td>\n",
       "      <td>0.0</td>\n",
       "      <td>...</td>\n",
       "      <td>254.000000</td>\n",
       "      <td>254.000000</td>\n",
       "      <td>253.000000</td>\n",
       "      <td>253.00000</td>\n",
       "      <td>254.000000</td>\n",
       "      <td>62.000000</td>\n",
       "      <td>0.0</td>\n",
       "      <td>0.0</td>\n",
       "      <td>0.0</td>\n",
       "      <td>0.0</td>\n",
       "    </tr>\n",
       "  </tbody>\n",
       "</table>\n",
       "<p>8 rows × 785 columns</p>\n",
       "</div>"
      ],
      "text/plain": [
       "              label   pixel0   pixel1   pixel2   pixel3   pixel4   pixel5  \\\n",
       "count  42000.000000  42000.0  42000.0  42000.0  42000.0  42000.0  42000.0   \n",
       "mean       4.456643      0.0      0.0      0.0      0.0      0.0      0.0   \n",
       "std        2.887730      0.0      0.0      0.0      0.0      0.0      0.0   \n",
       "min        0.000000      0.0      0.0      0.0      0.0      0.0      0.0   \n",
       "25%        2.000000      0.0      0.0      0.0      0.0      0.0      0.0   \n",
       "50%        4.000000      0.0      0.0      0.0      0.0      0.0      0.0   \n",
       "75%        7.000000      0.0      0.0      0.0      0.0      0.0      0.0   \n",
       "max        9.000000      0.0      0.0      0.0      0.0      0.0      0.0   \n",
       "\n",
       "        pixel6   pixel7   pixel8  ...      pixel774      pixel775  \\\n",
       "count  42000.0  42000.0  42000.0  ...  42000.000000  42000.000000   \n",
       "mean       0.0      0.0      0.0  ...      0.219286      0.117095   \n",
       "std        0.0      0.0      0.0  ...      6.312890      4.633819   \n",
       "min        0.0      0.0      0.0  ...      0.000000      0.000000   \n",
       "25%        0.0      0.0      0.0  ...      0.000000      0.000000   \n",
       "50%        0.0      0.0      0.0  ...      0.000000      0.000000   \n",
       "75%        0.0      0.0      0.0  ...      0.000000      0.000000   \n",
       "max        0.0      0.0      0.0  ...    254.000000    254.000000   \n",
       "\n",
       "           pixel776     pixel777      pixel778      pixel779  pixel780  \\\n",
       "count  42000.000000  42000.00000  42000.000000  42000.000000   42000.0   \n",
       "mean       0.059024      0.02019      0.017238      0.002857       0.0   \n",
       "std        3.274488      1.75987      1.894498      0.414264       0.0   \n",
       "min        0.000000      0.00000      0.000000      0.000000       0.0   \n",
       "25%        0.000000      0.00000      0.000000      0.000000       0.0   \n",
       "50%        0.000000      0.00000      0.000000      0.000000       0.0   \n",
       "75%        0.000000      0.00000      0.000000      0.000000       0.0   \n",
       "max      253.000000    253.00000    254.000000     62.000000       0.0   \n",
       "\n",
       "       pixel781  pixel782  pixel783  \n",
       "count   42000.0   42000.0   42000.0  \n",
       "mean        0.0       0.0       0.0  \n",
       "std         0.0       0.0       0.0  \n",
       "min         0.0       0.0       0.0  \n",
       "25%         0.0       0.0       0.0  \n",
       "50%         0.0       0.0       0.0  \n",
       "75%         0.0       0.0       0.0  \n",
       "max         0.0       0.0       0.0  \n",
       "\n",
       "[8 rows x 785 columns]"
      ]
     },
     "execution_count": 13,
     "metadata": {},
     "output_type": "execute_result"
    }
   ],
   "source": [
    "train_complete.describe()"
   ]
  },
  {
   "cell_type": "code",
   "execution_count": 3,
   "metadata": {},
   "outputs": [
    {
     "data": {
      "text/plain": [
       "label       0\n",
       "pixel0      0\n",
       "pixel1      0\n",
       "pixel2      0\n",
       "pixel3      0\n",
       "           ..\n",
       "pixel779    0\n",
       "pixel780    0\n",
       "pixel781    0\n",
       "pixel782    0\n",
       "pixel783    0\n",
       "Length: 785, dtype: int64"
      ]
     },
     "execution_count": 3,
     "metadata": {},
     "output_type": "execute_result"
    }
   ],
   "source": [
    "#checking for null value\n",
    "train_complete.isnull().sum()"
   ]
  },
  {
   "cell_type": "markdown",
   "metadata": {},
   "source": [
    "No null value"
   ]
  },
  {
   "cell_type": "code",
   "execution_count": 37,
   "metadata": {},
   "outputs": [],
   "source": [
    "#seperating predictors and variables\n",
    "X_train = train_complete.loc[:,'pixel0':]\n",
    "Y_train = train_complete.loc[:,'label']\n",
    "\n",
    "#the value of predictors ranges from 0 to 255, normalizinf the value\n",
    "X_train = X_train/255\n",
    "test_df = test_df/255"
   ]
  },
  {
   "cell_type": "markdown",
   "metadata": {},
   "source": [
    "# Visualization"
   ]
  },
  {
   "cell_type": "code",
   "execution_count": 38,
   "metadata": {},
   "outputs": [
    {
     "data": {
      "text/plain": [
       "5"
      ]
     },
     "execution_count": 38,
     "metadata": {},
     "output_type": "execute_result"
    },
    {
     "data": {
      "image/png": "[encoded data removed]",
      "text/plain": [
       "<Figure size 432x288 with 2 Axes>"
      ]
     },
     "metadata": {
      "needs_background": "light"
     },
     "output_type": "display_data"
    }
   ],
   "source": [
    "#visualising the digit in the training data\n",
    "digit = X_train.loc[8,\"pixel0\":]\n",
    "digit_arr = np.array(digit)\n",
    "\n",
    "#reshaping in the image fromat of 28x28\n",
    "arr = np.reshape(digit_arr,(28,28))\n",
    "\n",
    "#visualizing the digit\n",
    "digit_img = plt.imshow(arr, cmap = plt.cm.binary)\n",
    "plt.colorbar(digit_img)\n",
    "Y_train.loc[8]\n"
   ]
  },
  {
   "cell_type": "code",
   "execution_count": 72,
   "metadata": {},
   "outputs": [
    {
     "data": {
      "text/plain": [
       "<function matplotlib.pyplot.show(close=None, block=None)>"
      ]
     },
     "execution_count": 72,
     "metadata": {},
     "output_type": "execute_result"
    },
    {
     "data": {
      "image/png": "[encoded data removed]",
      "text/plain": [
       "<Figure size 411.875x360 with 1 Axes>"
      ]
     },
     "metadata": {
      "needs_background": "light"
     },
     "output_type": "display_data"
    }
   ],
   "source": [
    "#visulizing the entire training dataset\n",
    "#standarizing the data\n",
    "from sklearn.preprocessing import StandardScaler\n",
    "from sklearn import decomposition\n",
    "\n",
    "standardized_scalar = StandardScaler()\n",
    "std_data = standardized_scalar.fit_transform(X_train)\n",
    "\n",
    "pca = decomposition.PCA()\n",
    "pca.n_components = 2\n",
    "pca_data = pca.fit_transform(std_data)\n",
    "\n",
    "new_data = np.vstack((pca_data.T,Y_train)).T\n",
    "coord_data = pd.DataFrame(new_data, columns = ['f1','f2','labels'])\n",
    "\n",
    "#visualizing the data\n",
    "#sea.FacetGrid(coord_data, hue=\"labels\", size=12).map(plt.scatter, \"f1\", \"f2\").add_legend()\n",
    "sea.lmplot(x='f1',y='f2', data = coord_data, hue = 'labels', fit_reg = False, scatter_kws={'alpha':0.6})\n",
    "plt.show"
   ]
  },
  {
   "cell_type": "markdown",
   "metadata": {},
   "source": [
    "# Model Creation"
   ]
  },
  {
   "cell_type": "code",
   "execution_count": 121,
   "metadata": {},
   "outputs": [],
   "source": [
    "from sklearn.preprocessing import OneHotEncoder\n",
    "from sklearn.preprocessing import LabelEncoder\n",
    "import tensorflow.keras.layers as layers\n",
    "from tensorflow.keras.models import Model\n",
    "from tensorflow.keras.models import Sequential"
   ]
  },
  {
   "cell_type": "code",
   "execution_count": 122,
   "metadata": {},
   "outputs": [],
   "source": [
    "#Reshaping the training set in 28x28x1 matrix, the format in which image is expected \n",
    "#1 because the image in in Grayscale format\n",
    "Xtrain_reshape = np.array(X_train)\n",
    "Ytrain_reshape = np.array(Y_train)\n",
    "Xtrain_reshape = Xtrain_reshape.reshape(X_train.shape[0], 28, 28, 1)"
   ]
  },
  {
   "cell_type": "code",
   "execution_count": 145,
   "metadata": {},
   "outputs": [
    {
     "data": {
      "text/plain": [
       "(42000, 10)"
      ]
     },
     "execution_count": 145,
     "metadata": {},
     "output_type": "execute_result"
    }
   ],
   "source": [
    "#encoding the labels\n",
    "#since the output in in multiclass format, need to convert the labels in caotegorical\n",
    "'''\n",
    "le = LabelEncoder()\n",
    "ohe = OneHotEncoder()\n",
    "le.fit(Ytrain_reshape)\n",
    "Y_train_enc = le.transform(Ytrain_reshape)\n",
    "'''\n",
    "Y_train_enc = (np.eye(10)[Ytrain_reshape])\n",
    "Y_train_enc = Y_train_enc.astype(np.int32)\n",
    "Y_train_enc.shape"
   ]
  },
  {
   "cell_type": "code",
   "execution_count": 190,
   "metadata": {},
   "outputs": [],
   "source": [
    "#creating the model functions\n",
    "def create_model(input_shape = (28,28,1)):\n",
    "    model = keras.Sequential([\n",
    "    layers.Conv2D(filters = 32, kernel_size = 3, activation = 'relu', padding = 'same', input_shape = input_shape),\n",
    "    layers.MaxPool2D(pool_size = 2),\n",
    "        \n",
    "    layers.Conv2D(filters = 32, kernel_size = 3, activation = 'relu', padding = 'same'),\n",
    "    layers.MaxPool2D(pool_size = 2),\n",
    "    \n",
    "    layers.Conv2D(filters = 64, kernel_size = 3, activation = 'relu', padding = 'same'),\n",
    "    layers.MaxPool2D(pool_size = 2),\n",
    "    \n",
    "    layers.Conv2D(filters = 128, kernel_size = 3, activation = 'relu', padding = 'same'),\n",
    "    layers.MaxPool2D(pool_size = 2),\n",
    "    \n",
    "    layers.Flatten(),\n",
    "    layers.Dense(units = 20, activation = 'relu'),\n",
    "    layers.Dense(units = 10, activation = 'softmax')])\n",
    "    \n",
    "    return model\n",
    "    \n",
    "def compile_model(model, optimizer='adam', loss='categorical_crossentropy'):\n",
    "    model.compile(optimizer=optimizer, loss=loss, metrics=[\"accuracy\"])\n",
    "    \n",
    "def fitting_model(model, x, y, epoch):\n",
    "    model.fit(x,y, shuffle = True, epochs = epoch)\n"
   ]
  },
  {
   "cell_type": "code",
   "execution_count": 191,
   "metadata": {},
   "outputs": [],
   "source": [
    "#creating model\n",
    "cnn_model = create_model((28,28,1))\n",
    "#optimizing model\n",
    "compile_model(cnn_model, 'adam', 'categorical_crossentropy')"
   ]
  },
  {
   "cell_type": "code",
   "execution_count": 192,
   "metadata": {},
   "outputs": [],
   "source": [
    "#splitting validation data\n",
    "from sklearn.model_selection import train_test_split\n",
    "train_X, test_X, train_Y, test_Y = train_test_split(Xtrain_reshape, Y_train_enc, random_state = 1)"
   ]
  },
  {
   "cell_type": "code",
   "execution_count": 168,
   "metadata": {},
   "outputs": [
    {
     "data": {
      "text/plain": [
       "(31500, 10)"
      ]
     },
     "execution_count": 168,
     "metadata": {},
     "output_type": "execute_result"
    }
   ],
   "source": [
    "train_Y.shape"
   ]
  },
  {
   "cell_type": "code",
   "execution_count": 193,
   "metadata": {},
   "outputs": [
    {
     "name": "stdout",
     "output_type": "stream",
     "text": [
      "Epoch 1/40\n",
      "124/124 [==============================] - 24s 195ms/step - loss: 0.7699 - accuracy: 0.7550 - val_loss: 0.2035 - val_accuracy: 0.9397\n",
      "Epoch 2/40\n",
      "124/124 [==============================] - 24s 192ms/step - loss: 0.1463 - accuracy: 0.9575 - val_loss: 0.1040 - val_accuracy: 0.9672\n",
      "Epoch 3/40\n",
      "124/124 [==============================] - 23s 188ms/step - loss: 0.0993 - accuracy: 0.9694 - val_loss: 0.1536 - val_accuracy: 0.9542\n",
      "Epoch 4/40\n",
      "124/124 [==============================] - 24s 191ms/step - loss: 0.0830 - accuracy: 0.9752 - val_loss: 0.1128 - val_accuracy: 0.9647\n",
      "Epoch 5/40\n",
      "124/124 [==============================] - 23s 187ms/step - loss: 0.0626 - accuracy: 0.9806 - val_loss: 0.0676 - val_accuracy: 0.9800\n",
      "Epoch 6/40\n",
      "124/124 [==============================] - 23s 186ms/step - loss: 0.0503 - accuracy: 0.9837 - val_loss: 0.0638 - val_accuracy: 0.9800\n",
      "Epoch 7/40\n",
      "124/124 [==============================] - 23s 188ms/step - loss: 0.0413 - accuracy: 0.9864 - val_loss: 0.0731 - val_accuracy: 0.9779\n",
      "Epoch 8/40\n",
      "124/124 [==============================] - 23s 187ms/step - loss: 0.0422 - accuracy: 0.9863 - val_loss: 0.0689 - val_accuracy: 0.9800\n",
      "Epoch 9/40\n",
      "124/124 [==============================] - 24s 190ms/step - loss: 0.0354 - accuracy: 0.9880 - val_loss: 0.0632 - val_accuracy: 0.9805\n",
      "Epoch 10/40\n",
      "124/124 [==============================] - 24s 191ms/step - loss: 0.0305 - accuracy: 0.9898 - val_loss: 0.0446 - val_accuracy: 0.9869\n",
      "Epoch 11/40\n",
      "124/124 [==============================] - 23s 188ms/step - loss: 0.0227 - accuracy: 0.9923 - val_loss: 0.0493 - val_accuracy: 0.9852\n",
      "Epoch 12/40\n",
      "124/124 [==============================] - 24s 190ms/step - loss: 0.0242 - accuracy: 0.9916 - val_loss: 0.0450 - val_accuracy: 0.9871\n",
      "Epoch 13/40\n",
      "124/124 [==============================] - 23s 188ms/step - loss: 0.0239 - accuracy: 0.9926 - val_loss: 0.0461 - val_accuracy: 0.9866\n",
      "Epoch 14/40\n",
      "124/124 [==============================] - 24s 190ms/step - loss: 0.0175 - accuracy: 0.9940 - val_loss: 0.0468 - val_accuracy: 0.9874\n",
      "Epoch 15/40\n",
      "124/124 [==============================] - 24s 191ms/step - loss: 0.0121 - accuracy: 0.9963 - val_loss: 0.0546 - val_accuracy: 0.9854\n",
      "Epoch 16/40\n",
      "124/124 [==============================] - 23s 187ms/step - loss: 0.0155 - accuracy: 0.9947 - val_loss: 0.0453 - val_accuracy: 0.9875\n",
      "Epoch 17/40\n",
      "124/124 [==============================] - 23s 189ms/step - loss: 0.0099 - accuracy: 0.9970 - val_loss: 0.0510 - val_accuracy: 0.9866\n",
      "Epoch 18/40\n",
      "124/124 [==============================] - 23s 186ms/step - loss: 0.0107 - accuracy: 0.9967 - val_loss: 0.0602 - val_accuracy: 0.9853\n",
      "Epoch 19/40\n",
      "124/124 [==============================] - 24s 190ms/step - loss: 0.0080 - accuracy: 0.9975 - val_loss: 0.0462 - val_accuracy: 0.9885\n",
      "Epoch 20/40\n",
      "124/124 [==============================] - 23s 185ms/step - loss: 0.0091 - accuracy: 0.9971 - val_loss: 0.0465 - val_accuracy: 0.9891\n",
      "Epoch 21/40\n",
      "124/124 [==============================] - 23s 182ms/step - loss: 0.0089 - accuracy: 0.9969 - val_loss: 0.0540 - val_accuracy: 0.9869\n",
      "Epoch 22/40\n",
      "124/124 [==============================] - 21s 172ms/step - loss: 0.0084 - accuracy: 0.9973 - val_loss: 0.0585 - val_accuracy: 0.9861\n",
      "Epoch 23/40\n",
      "124/124 [==============================] - 21s 169ms/step - loss: 0.0054 - accuracy: 0.9980 - val_loss: 0.0518 - val_accuracy: 0.9876\n",
      "Epoch 24/40\n",
      "124/124 [==============================] - 23s 189ms/step - loss: 0.0064 - accuracy: 0.9979 - val_loss: 0.0672 - val_accuracy: 0.9847\n",
      "Epoch 25/40\n",
      "124/124 [==============================] - 24s 194ms/step - loss: 0.0118 - accuracy: 0.9968 - val_loss: 0.0488 - val_accuracy: 0.9890\n",
      "Epoch 26/40\n",
      "124/124 [==============================] - 24s 190ms/step - loss: 0.0041 - accuracy: 0.9986 - val_loss: 0.0591 - val_accuracy: 0.9879\n",
      "Epoch 27/40\n",
      "124/124 [==============================] - 22s 177ms/step - loss: 0.0064 - accuracy: 0.9980 - val_loss: 0.0562 - val_accuracy: 0.9885\n",
      "Epoch 28/40\n",
      "124/124 [==============================] - 22s 178ms/step - loss: 0.0064 - accuracy: 0.9982 - val_loss: 0.0562 - val_accuracy: 0.9889\n",
      "Epoch 29/40\n",
      "124/124 [==============================] - 24s 190ms/step - loss: 0.0058 - accuracy: 0.9981 - val_loss: 0.0492 - val_accuracy: 0.9881\n",
      "Epoch 30/40\n",
      "124/124 [==============================] - 23s 187ms/step - loss: 0.0274 - accuracy: 0.9920 - val_loss: 0.0464 - val_accuracy: 0.9889\n",
      "Epoch 31/40\n",
      "124/124 [==============================] - 23s 188ms/step - loss: 0.0055 - accuracy: 0.9982 - val_loss: 0.0554 - val_accuracy: 0.9880\n",
      "Epoch 32/40\n",
      "124/124 [==============================] - 23s 184ms/step - loss: 0.0028 - accuracy: 0.9991 - val_loss: 0.0538 - val_accuracy: 0.9885\n",
      "Epoch 33/40\n",
      "124/124 [==============================] - 23s 187ms/step - loss: 0.0026 - accuracy: 0.9993 - val_loss: 0.0514 - val_accuracy: 0.9889\n",
      "Epoch 34/40\n",
      "124/124 [==============================] - 23s 184ms/step - loss: 4.7779e-04 - accuracy: 1.0000 - val_loss: 0.0537 - val_accuracy: 0.9887\n",
      "Epoch 35/40\n",
      "124/124 [==============================] - 22s 180ms/step - loss: 3.3392e-04 - accuracy: 1.0000 - val_loss: 0.0530 - val_accuracy: 0.9900\n",
      "Epoch 36/40\n",
      "124/124 [==============================] - 21s 173ms/step - loss: 3.3383e-04 - accuracy: 0.9999 - val_loss: 0.0528 - val_accuracy: 0.9900\n",
      "Epoch 37/40\n",
      "124/124 [==============================] - 21s 173ms/step - loss: 4.0761e-04 - accuracy: 0.9999 - val_loss: 0.0540 - val_accuracy: 0.9901\n",
      "Epoch 38/40\n",
      "124/124 [==============================] - 23s 187ms/step - loss: 4.3720e-04 - accuracy: 1.0000 - val_loss: 0.0545 - val_accuracy: 0.9894\n",
      "Epoch 39/40\n",
      "124/124 [==============================] - 22s 178ms/step - loss: 0.0013 - accuracy: 0.9997 - val_loss: 0.0587 - val_accuracy: 0.9893\n",
      "Epoch 40/40\n",
      "124/124 [==============================] - 23s 184ms/step - loss: 5.5263e-04 - accuracy: 0.9999 - val_loss: 0.0851 - val_accuracy: 0.9862\n"
     ]
    }
   ],
   "source": [
    "#fitting the model\n",
    "history = cnn_model.fit(train_X, train_Y, validation_data = (test_X, test_Y), batch_size = 256, epochs = 40)"
   ]
  },
  {
   "cell_type": "code",
   "execution_count": 199,
   "metadata": {},
   "outputs": [
    {
     "data": {
      "text/plain": [
       "<matplotlib.legend.Legend at 0x1a220343cd0>"
      ]
     },
     "execution_count": 199,
     "metadata": {},
     "output_type": "execute_result"
    },
    {
     "data": {
      "image/png": "[encoded data removed]",
      "text/plain": [
       "<Figure size 432x288 with 1 Axes>"
      ]
     },
     "metadata": {
      "needs_background": "light"
     },
     "output_type": "display_data"
    }
   ],
   "source": [
    "#model performance visualization\n",
    "plt.plot(history.history['accuracy'], label = str('Training accuracy'))\n",
    "plt.plot(history.history['val_accuracy'], label = str('Validation accuracy'))\n",
    "plt.title('accuracy')\n",
    "plt.legend()"
   ]
  },
  {
   "cell_type": "code",
   "execution_count": 201,
   "metadata": {},
   "outputs": [
    {
     "data": {
      "text/plain": [
       "<matplotlib.legend.Legend at 0x1a221876df0>"
      ]
     },
     "execution_count": 201,
     "metadata": {},
     "output_type": "execute_result"
    },
    {
     "data": {
      "image/png": "[encoded data removed]",
      "text/plain": [
       "<Figure size 432x288 with 1 Axes>"
      ]
     },
     "metadata": {
      "needs_background": "light"
     },
     "output_type": "display_data"
    }
   ],
   "source": [
    "plt.plot(history.history['loss'], label = str('Training loss'))\n",
    "plt.plot(history.history['val_loss'], label = str('Validation loss'))\n",
    "plt.title('loss')\n",
    "plt.legend()"
   ]
  },
  {
   "cell_type": "code",
   "execution_count": 212,
   "metadata": {},
   "outputs": [
    {
     "data": {
      "text/plain": [
       "array([[0., 0., 1., ..., 0., 0., 0.],\n",
       "       [1., 0., 0., ..., 0., 0., 0.],\n",
       "       [0., 0., 0., ..., 0., 0., 1.],\n",
       "       ...,\n",
       "       [0., 0., 0., ..., 0., 0., 0.],\n",
       "       [0., 0., 0., ..., 0., 0., 1.],\n",
       "       [0., 0., 1., ..., 0., 0., 0.]], dtype=float32)"
      ]
     },
     "execution_count": 212,
     "metadata": {},
     "output_type": "execute_result"
    }
   ],
   "source": [
    "#prediction data\n",
    "prediction_data = pd.read_csv('test.csv')\n",
    "prediction_data1 = np.array(prediction_data)\n",
    "prediction_data1 = prediction_data1.reshape(prediction_data1.shape[0],28,28,1)\n",
    "\n",
    "#prediction\n",
    "prediction = cnn_model.predict(prediction_data1)\n",
    "prediction"
   ]
  },
  {
   "cell_type": "code",
   "execution_count": 214,
   "metadata": {},
   "outputs": [
    {
     "data": {
      "text/html": [
       "<div>\n",
       "<style scoped>\n",
       "    .dataframe tbody tr th:only-of-type {\n",
       "        vertical-align: middle;\n",
       "    }\n",
       "\n",
       "    .dataframe tbody tr th {\n",
       "        vertical-align: top;\n",
       "    }\n",
       "\n",
       "    .dataframe thead th {\n",
       "        text-align: right;\n",
       "    }\n",
       "</style>\n",
       "<table border=\"1\" class=\"dataframe\">\n",
       "  <thead>\n",
       "    <tr style=\"text-align: right;\">\n",
       "      <th></th>\n",
       "      <th>ImageID</th>\n",
       "      <th>Label</th>\n",
       "    </tr>\n",
       "  </thead>\n",
       "  <tbody>\n",
       "    <tr>\n",
       "      <th>0</th>\n",
       "      <td>1</td>\n",
       "      <td>2</td>\n",
       "    </tr>\n",
       "    <tr>\n",
       "      <th>1</th>\n",
       "      <td>2</td>\n",
       "      <td>0</td>\n",
       "    </tr>\n",
       "    <tr>\n",
       "      <th>2</th>\n",
       "      <td>3</td>\n",
       "      <td>9</td>\n",
       "    </tr>\n",
       "    <tr>\n",
       "      <th>3</th>\n",
       "      <td>4</td>\n",
       "      <td>0</td>\n",
       "    </tr>\n",
       "    <tr>\n",
       "      <th>4</th>\n",
       "      <td>5</td>\n",
       "      <td>3</td>\n",
       "    </tr>\n",
       "  </tbody>\n",
       "</table>\n",
       "</div>"
      ],
      "text/plain": [
       "   ImageID  Label\n",
       "0        1      2\n",
       "1        2      0\n",
       "2        3      9\n",
       "3        4      0\n",
       "4        5      3"
      ]
     },
     "execution_count": 214,
     "metadata": {},
     "output_type": "execute_result"
    }
   ],
   "source": [
    "#mapping prediction to numeric value\n",
    "predicted_result = []\n",
    "for i in prediction:\n",
    "    k = np.argmax(i)\n",
    "    predicted_result.append(k)\n",
    "\n",
    "final = pd.DataFrame({'ImageID':prediction_data.index+1 , 'Label':predicted_result })\n",
    "final.to_csv('my_submission.csv', index=False)\n",
    "final.head()"
   ]
  }
 ],
 "metadata": {
  "kernelspec": {
   "display_name": "Python 3",
   "language": "python",
   "name": "python3"
  },
  "language_info": {
   "codemirror_mode": {
    "name": "ipython",
    "version": 3
   },
   "file_extension": ".py",
   "mimetype": "text/x-python",
   "name": "python",
   "nbconvert_exporter": "python",
   "pygments_lexer": "ipython3",
   "version": "3.8.5"
  }
 },
 "nbformat": 4,
 "nbformat_minor": 4
}
